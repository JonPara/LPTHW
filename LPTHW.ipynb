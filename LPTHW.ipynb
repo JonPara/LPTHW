{
 "cells": [
  {
   "cell_type": "code",
   "execution_count": 2,
   "metadata": {},
   "outputs": [
    {
     "name": "stdout",
     "output_type": "stream",
     "text": [
      "Hello World!\n",
      "Hello again\n",
      "I like type this\n",
      "This is fun\n",
      "Yay! Printing\n",
      "I'd much rather you 'not'.\n",
      "I \"said\" do not touch this\n"
     ]
    }
   ],
   "source": [
    "print (\"Hello World!\")\n",
    "print (\"Hello again\")\n",
    "print (\"I like type this\")\n",
    "print (\"This is fun\")\n",
    "print (\"Yay! Printing\")\n",
    "print (\"I'd much rather you 'not'.\")\n",
    "print ('I \"said\" do not touch this')"
   ]
  },
  {
   "cell_type": "code",
   "execution_count": 3,
   "metadata": {},
   "outputs": [
    {
     "name": "stdout",
     "output_type": "stream",
     "text": [
      "I could have code like this.\n",
      "This will run\n"
     ]
    }
   ],
   "source": [
    "# A comment, this is so you can read your program later.\n",
    "# Anything after the # is ignored by python.\n",
    "\n",
    "print(\"I could have code like this.\") # and the comment after is ignored\n",
    "\n",
    "# You can also use a comment to \"disable\" or comment out a piece of code:\n",
    "\n",
    "print(\"This will run\")"
   ]
  },
  {
   "cell_type": "code",
   "execution_count": 7,
   "metadata": {},
   "outputs": [
    {
     "name": "stdout",
     "output_type": "stream",
     "text": [
      "I will now count my chickens:\n",
      "Hens 30.0\n",
      "Roosters 97\n",
      "Now I will count the eggs:\n",
      "7\n",
      "Is it true that 3 + 2 < 5 - 7?\n",
      "False\n",
      "What is 3 + 2? 5\n"
     ]
    }
   ],
   "source": [
    "# Prints a string\n",
    "print(\"I will now count my chickens:\")\n",
    "\n",
    "# Does operations after closing string with quotation marks\n",
    "print(\"Hens\", 25 + 30 / 6)\n",
    "print(\"Roosters\", 100- 25 * 3 % 4)\n",
    "\n",
    "print(\"Now I will count the eggs:\")\n",
    "print(round(3 + 2 + 1 - 5 + 4 % 2 - 1 / 4 + 6))\n",
    "print(\"Is it true that 3 + 2 < 5 - 7?\")\n",
    "\n",
    "#Boolean\n",
    "print(3 + 2 < 5 - 7)\n",
    "\n",
    "\n",
    "print(\"What is 3 + 2?\", 3 + 2)"
   ]
  },
  {
   "cell_type": "markdown",
   "metadata": {},
   "source": [
    "## Variables"
   ]
  },
  {
   "cell_type": "code",
   "execution_count": 12,
   "metadata": {},
   "outputs": [
    {
     "name": "stdout",
     "output_type": "stream",
     "text": [
      "There are 100 cars available\n",
      "There are only 30 drivers available\n",
      "There will be 70 empty cars todays.\n",
      "We can trasnport 120.0 people today\n"
     ]
    }
   ],
   "source": [
    "cars = 100\n",
    "space_in_a_car = 4.0\n",
    "drivers = 30\n",
    "passengers = 90\n",
    "cars_not_driven = cars - drivers\n",
    "cars_driven = drivers\n",
    "carpool_capacity = cars_driven * space_in_a_car\n",
    "average_passengers_per_car = passengers / cars_driven\n",
    "\n",
    "print(\"There are\", cars, \"cars available\")\n",
    "print(\"There are only\", drivers, \"drivers available\")\n",
    "print(\"There will be\", cars_not_driven, \"empty cars todays.\")\n",
    "print(\"We can trasnport\", carpool_capacity, \"people today\")"
   ]
  },
  {
   "cell_type": "markdown",
   "metadata": {},
   "source": [
    "## More Variables and Printing"
   ]
  },
  {
   "cell_type": "code",
   "execution_count": 14,
   "metadata": {},
   "outputs": [
    {
     "name": "stdout",
     "output_type": "stream",
     "text": [
      "Let's talk about Zed A. Shaw.\n",
      "He's 74 inches tall.\n",
      "He's 180 pounds heavy.\n",
      "Actually that's not too heavy.\n",
      "He's got Blue eyes and Brown hair.\n",
      "If I add 35, 74, and 180 and I get 289\n"
     ]
    }
   ],
   "source": [
    "my_name = \"Zed A. Shaw\"\n",
    "my_age = 35\n",
    "my_height = 74\n",
    "my_weight = 180\n",
    "my_eyes = \"Blue\"\n",
    "my_teeth = \"White\"\n",
    "my_hair = \"Brown\"\n",
    "\n",
    "print(\"Let's talk about %s.\" %my_name)\n",
    "print(\"He's %d inches tall.\" %my_height)\n",
    "print(\"He's %d pounds heavy.\" %my_weight)\n",
    "print(\"Actually that's not too heavy.\")\n",
    "print(\"He's got %s eyes and %s hair.\" %(my_eyes, my_hair))\n",
    "\n",
    "print(\"If I add %d, %d, and %d and I get %d\" %(my_age, my_height, my_weight, my_age + my_height + my_weight))"
   ]
  },
  {
   "cell_type": "markdown",
   "metadata": {},
   "source": [
    "## Strings and Text"
   ]
  },
  {
   "cell_type": "code",
   "execution_count": 21,
   "metadata": {},
   "outputs": [
    {
     "name": "stdout",
     "output_type": "stream",
     "text": [
      "There are 10 types of people.\n",
      "Those who know binary and those who don't\n",
      "I said: 'There are 10 types of people.'.\n",
      "I also said: '\"Those who know binary and those who don't\"'.\n",
      "Isn't that joke so funny!? False\n",
      "This is the left side of...a string with a right side.\n"
     ]
    }
   ],
   "source": [
    "x = \"There are %d types of people.\" %10\n",
    "binary = \"binary\"\n",
    "do_not = \"don't\"\n",
    "y = \"Those who know %s and those who %s\"  %(binary, do_not)\n",
    "\n",
    "print(x)\n",
    "print(y)\n",
    "\n",
    "print(\"I said: %r.\" %x)\n",
    "print(\"I also said: '%r'.\" % y)\n",
    "\n",
    "hilarious = False\n",
    "joke_evaluation = \"Isn't that joke so funny!? %r\"\n",
    "print(joke_evaluation % hilarious)\n",
    "\n",
    "w = \"This is the left side of...\"\n",
    "e = \"a string with a right side.\"\n",
    "\n",
    "print(w + e)"
   ]
  },
  {
   "cell_type": "markdown",
   "metadata": {},
   "source": [
    "## More printing"
   ]
  },
  {
   "cell_type": "code",
   "execution_count": 24,
   "metadata": {},
   "outputs": [
    {
     "name": "stdout",
     "output_type": "stream",
     "text": [
      "Mary had a little lamb.\n",
      "It's fleece was white as snow.\n",
      "And everywhere that Mary went.\n",
      "..........\n",
      "Cheese\n",
      "Burger\n"
     ]
    }
   ],
   "source": [
    "print(\"Mary had a little lamb.\")\n",
    "print(\"It's fleece was white as %s.\" %\"snow\")\n",
    "print(\"And everywhere that Mary went.\")\n",
    "print(\".\" * 10)\n",
    "\n",
    "end1 = \"C\"\n",
    "end2 = \"h\"\n",
    "end3 = \"e\"\n",
    "end4 = \"e\"\n",
    "end5 = \"s\"\n",
    "end6 = \"e\"\n",
    "end7 = \"B\"\n",
    "end8 = \"u\"\n",
    "end9 = \"r\"\n",
    "end10 = \"g\"\n",
    "end11 = \"e\"\n",
    "end12 = \"r\"\n",
    "\n",
    "print(end1 + end2 + end3 + end4 + end5 + end6,)\n",
    "print(end7 + end8 + end9 + end10 + end11 + end12)"
   ]
  },
  {
   "cell_type": "code",
   "execution_count": 26,
   "metadata": {},
   "outputs": [
    {
     "name": "stdout",
     "output_type": "stream",
     "text": [
      "1 2 3 4\n",
      "'%r %r %r %r' '%r %r %r %r' '%r %r %r %r' '%r %r %r %r'\n"
     ]
    }
   ],
   "source": [
    "formatter = \"%r %r %r %r\"\n",
    "\n",
    "print(formatter %(1,2,3,4))\n",
    "print(formatter %(formatter, formatter, formatter, formatter))"
   ]
  },
  {
   "cell_type": "markdown",
   "metadata": {
    "collapsed": true
   },
   "source": [
    "## Printing, Printing, Printing"
   ]
  },
  {
   "cell_type": "code",
   "execution_count": 2,
   "metadata": {},
   "outputs": [
    {
     "name": "stdout",
     "output_type": "stream",
     "text": [
      "Here are the days:  Mon Tue Wed Thu Fri Sat Sun\n",
      "Here are the months:  Jan\n",
      "Feb\n",
      "Apr\n",
      "Mar\n",
      "May\n",
      "Jun\n",
      "Jul\n",
      "Aug\n"
     ]
    }
   ],
   "source": [
    "# here's some new strange stuff, remember type it exactly\n",
    "\n",
    "days = \"Mon Tue Wed Thu Fri Sat Sun\"\n",
    "months = \"Jan\\nFeb\\nApr\\nMar\\nMay\\nJun\\nJul\\nAug\"\n",
    "\n",
    "print(\"Here are the days: \", days)\n",
    "print(\"Here are the months: \", months)"
   ]
  },
  {
   "cell_type": "markdown",
   "metadata": {},
   "source": [
    "tabby_cat = \"\\tI'm tabbed in\"\n",
    "persian_cat = \"I'm split\\non a line\"\n",
    "backslash_cat = \"I'm \\\\ a \\\\ cat.\"\n",
    "print(tabby_cat)\n",
    "print(persian_cat)\n",
    "print(backslash_cat)"
   ]
  },
  {
   "cell_type": "markdown",
   "metadata": {},
   "source": [
    "## Asking Questions"
   ]
  },
  {
   "cell_type": "code",
   "execution_count": 7,
   "metadata": {},
   "outputs": [
    {
     "name": "stdout",
     "output_type": "stream",
     "text": [
      "How old are you?\n",
      "26\n",
      "How tall are you?\n",
      "5'11\n",
      "How much do you weigh?\n",
      "205\n",
      "So you're '26' years old old, \"5'11\" tall and '205' heavy.\n"
     ]
    }
   ],
   "source": [
    "print(\"How old are you?\"),\n",
    "age = input()\n",
    "print(\"How tall are you?\"),\n",
    "height = input()\n",
    "print(\"How much do you weigh?\")\n",
    "weight = input()\n",
    "\n",
    "print(\"So you're %r years old old, %r tall and %r heavy.\" %(age, height, weight))"
   ]
  },
  {
   "cell_type": "markdown",
   "metadata": {},
   "source": [
    "## Prompting People"
   ]
  },
  {
   "cell_type": "code",
   "execution_count": 9,
   "metadata": {},
   "outputs": [
    {
     "name": "stdout",
     "output_type": "stream",
     "text": [
      "How old are you? 26\n",
      "How tall are you? 5'11\n",
      "How much do you weigh? 205\n",
      "So, you're '26' years old, \"5'11\" tall and '205' heavy.\n"
     ]
    }
   ],
   "source": [
    "age = input(\"How old are you? \")\n",
    "height = input(\"How tall are you? \")\n",
    "weight = input(\"How much do you weigh? \")\n",
    "\n",
    "print(\"So, you're %r years old, %r tall and %r heavy.\" %(age, height, weight))"
   ]
  },
  {
   "cell_type": "markdown",
   "metadata": {},
   "source": [
    "## Parameters, Unpacking, Variables"
   ]
  },
  {
   "cell_type": "code",
   "execution_count": 14,
   "metadata": {},
   "outputs": [
    {
     "ename": "ValueError",
     "evalue": "not enough values to unpack (expected 4, got 3)",
     "output_type": "error",
     "traceback": [
      "\u001b[1;31m---------------------------------------------------------------------------\u001b[0m",
      "\u001b[1;31mValueError\u001b[0m                                Traceback (most recent call last)",
      "\u001b[1;32m<ipython-input-14-87ecb29aabe9>\u001b[0m in \u001b[0;36m<module>\u001b[1;34m()\u001b[0m\n\u001b[0;32m      1\u001b[0m \u001b[1;32mfrom\u001b[0m \u001b[0msys\u001b[0m \u001b[1;32mimport\u001b[0m \u001b[0margv\u001b[0m\u001b[1;33m\u001b[0m\u001b[0m\n\u001b[0;32m      2\u001b[0m \u001b[1;33m\u001b[0m\u001b[0m\n\u001b[1;32m----> 3\u001b[1;33m \u001b[0mscript\u001b[0m\u001b[1;33m,\u001b[0m \u001b[0mfirst\u001b[0m\u001b[1;33m,\u001b[0m \u001b[0msecond\u001b[0m\u001b[1;33m,\u001b[0m \u001b[0mthird\u001b[0m \u001b[1;33m=\u001b[0m \u001b[0margv\u001b[0m\u001b[1;33m\u001b[0m\u001b[0m\n\u001b[0m\u001b[0;32m      4\u001b[0m \u001b[1;33m\u001b[0m\u001b[0m\n\u001b[0;32m      5\u001b[0m \u001b[0mprint\u001b[0m\u001b[1;33m(\u001b[0m\u001b[1;34m\"The script is called:\"\u001b[0m\u001b[1;33m,\u001b[0m \u001b[0mscript\u001b[0m\u001b[1;33m)\u001b[0m\u001b[1;33m\u001b[0m\u001b[0m\n",
      "\u001b[1;31mValueError\u001b[0m: not enough values to unpack (expected 4, got 3)"
     ]
    }
   ],
   "source": [
    "from sys import argv\n",
    "\n",
    "script, first, second, third = argv\n",
    "\n",
    "print(\"The script is called:\", script)\n",
    "print(\"Your first variable is:\", first)\n",
    "print(\"You second variable is:\", second)\n",
    "print(\"Your third variable is:\", third)"
   ]
  },
  {
   "cell_type": "code",
   "execution_count": 17,
   "metadata": {},
   "outputs": [
    {
     "ename": "ValueError",
     "evalue": "too many values to unpack (expected 2)",
     "output_type": "error",
     "traceback": [
      "\u001b[1;31m---------------------------------------------------------------------------\u001b[0m",
      "\u001b[1;31mValueError\u001b[0m                                Traceback (most recent call last)",
      "\u001b[1;32m<ipython-input-17-7c503eb35f0f>\u001b[0m in \u001b[0;36m<module>\u001b[1;34m()\u001b[0m\n\u001b[0;32m      1\u001b[0m \u001b[1;32mfrom\u001b[0m \u001b[0msys\u001b[0m \u001b[1;32mimport\u001b[0m \u001b[0margv\u001b[0m\u001b[1;33m\u001b[0m\u001b[0m\n\u001b[0;32m      2\u001b[0m \u001b[1;33m\u001b[0m\u001b[0m\n\u001b[1;32m----> 3\u001b[1;33m \u001b[0mscript\u001b[0m\u001b[1;33m,\u001b[0m \u001b[0muser_name\u001b[0m \u001b[1;33m=\u001b[0m \u001b[0margv\u001b[0m\u001b[1;33m\u001b[0m\u001b[0m\n\u001b[0m\u001b[0;32m      4\u001b[0m \u001b[0mprompt\u001b[0m \u001b[1;33m=\u001b[0m \u001b[1;34m\">\"\u001b[0m\u001b[1;33m\u001b[0m\u001b[0m\n",
      "\u001b[1;31mValueError\u001b[0m: too many values to unpack (expected 2)"
     ]
    }
   ],
   "source": [
    "from sys import argv\n",
    "\n",
    "script, user_name = argv\n",
    "prompt = \">\""
   ]
  },
  {
   "cell_type": "code",
   "execution_count": 24,
   "metadata": {},
   "outputs": [
    {
     "ename": "TypeError",
     "evalue": "not all arguments converted during string formatting",
     "output_type": "error",
     "traceback": [
      "\u001b[1;31m---------------------------------------------------------------------------\u001b[0m",
      "\u001b[1;31mTypeError\u001b[0m                                 Traceback (most recent call last)",
      "\u001b[1;32m<ipython-input-24-1649d534b6a2>\u001b[0m in \u001b[0;36m<module>\u001b[1;34m()\u001b[0m\n\u001b[0;32m     12\u001b[0m     \u001b[0mprint\u001b[0m\u001b[1;33m(\u001b[0m\u001b[1;34m\"I got nothing\"\u001b[0m\u001b[1;33m)\u001b[0m\u001b[1;33m\u001b[0m\u001b[0m\n\u001b[0;32m     13\u001b[0m \u001b[1;33m\u001b[0m\u001b[0m\n\u001b[1;32m---> 14\u001b[1;33m \u001b[0mprint\u001b[0m\u001b[1;33m(\u001b[0m\u001b[0mprint_two\u001b[0m\u001b[1;33m(\u001b[0m\u001b[1;34m\"Zed\"\u001b[0m\u001b[1;33m,\u001b[0m \u001b[1;34m\"\"\u001b[0m\u001b[1;33m)\u001b[0m\u001b[1;33m)\u001b[0m\u001b[1;33m\u001b[0m\u001b[0m\n\u001b[0m",
      "\u001b[1;32m<ipython-input-24-1649d534b6a2>\u001b[0m in \u001b[0;36mprint_two\u001b[1;34m(*args)\u001b[0m\n\u001b[0;32m      1\u001b[0m \u001b[1;32mdef\u001b[0m \u001b[0mprint_two\u001b[0m\u001b[1;33m(\u001b[0m\u001b[1;33m*\u001b[0m\u001b[0margs\u001b[0m\u001b[1;33m)\u001b[0m\u001b[1;33m:\u001b[0m\u001b[1;33m\u001b[0m\u001b[0m\n\u001b[0;32m      2\u001b[0m     \u001b[0marg1\u001b[0m\u001b[1;33m,\u001b[0m \u001b[0marg2\u001b[0m \u001b[1;33m=\u001b[0m \u001b[0margs\u001b[0m\u001b[1;33m\u001b[0m\u001b[0m\n\u001b[1;32m----> 3\u001b[1;33m     \u001b[0mprint\u001b[0m\u001b[1;33m(\u001b[0m\u001b[1;34m\"arg1: %r\"\u001b[0m\u001b[1;33m,\u001b[0m \u001b[1;34m\"arg2: %r\"\u001b[0m \u001b[1;33m%\u001b[0m\u001b[1;33m(\u001b[0m\u001b[0marg1\u001b[0m\u001b[1;33m,\u001b[0m \u001b[0marg2\u001b[0m\u001b[1;33m)\u001b[0m\u001b[1;33m)\u001b[0m\u001b[1;33m\u001b[0m\u001b[0m\n\u001b[0m\u001b[0;32m      4\u001b[0m \u001b[1;33m\u001b[0m\u001b[0m\n\u001b[0;32m      5\u001b[0m \u001b[1;32mdef\u001b[0m \u001b[0mprint_two_again\u001b[0m\u001b[1;33m(\u001b[0m\u001b[0marg1\u001b[0m\u001b[1;33m,\u001b[0m \u001b[0marg2\u001b[0m\u001b[1;33m)\u001b[0m\u001b[1;33m:\u001b[0m\u001b[1;33m\u001b[0m\u001b[0m\n",
      "\u001b[1;31mTypeError\u001b[0m: not all arguments converted during string formatting"
     ]
    }
   ],
   "source": [
    "def print_two(*args):\n",
    "    arg1, arg2 = args\n",
    "    print(\"arg1: %r\", \"arg2: %r\" %(arg1, arg2))\n",
    "    \n",
    "def print_two_again(arg1, arg2):\n",
    "    print(\"arg1: %r\", \"arg2: %r\" %(arg1, arg2))\n",
    "    \n",
    "def print_one(arg1):\n",
    "    print(\"arg1: %r\" %arg1)\n",
    "    \n",
    "def print_none():\n",
    "    print(\"I got nothing\")\n",
    "    \n",
    "print(print_two(\"Zed\", \"Shaw\"))"
   ]
  },
  {
   "cell_type": "code",
   "execution_count": 28,
   "metadata": {},
   "outputs": [
    {
     "name": "stdout",
     "output_type": "stream",
     "text": [
      "We can just give the function numbers directly:\n",
      "You have 20 cheeses!\n",
      "You have 30 boxes of crackers!\n",
      "Man that's enough for a party!\n",
      "Get a blanket.\n",
      "\n",
      "OR, we can use variables from our script:\n",
      "You have 10 cheeses!\n",
      "You have 50 boxes of crackers!\n",
      "Man that's enough for a party!\n",
      "Get a blanket.\n",
      "\n",
      "We can even do math inside too:\n",
      "You have 12 cheeses!\n",
      "You have 11 boxes of crackers!\n",
      "Man that's enough for a party!\n",
      "Get a blanket.\n",
      "\n",
      "And we can combine the tow, variables and math:\n",
      "You have 110 cheeses!\n",
      "You have 1050 boxes of crackers!\n",
      "Man that's enough for a party!\n",
      "Get a blanket.\n",
      "\n"
     ]
    }
   ],
   "source": [
    "def cheese_and_crackers(cheese_count, boxes_of_crackers):\n",
    "    print(\"You have %d cheeses!\"%(cheese_count)) \n",
    "    print(\"You have %d boxes of crackers!\" %(boxes_of_crackers))\n",
    "    print(\"Man that's enough for a party!\")\n",
    "    print(\"Get a blanket.\\n\")\n",
    "    \n",
    "print(\"We can just give the function numbers directly:\")\n",
    "cheese_and_crackers(20,30)\n",
    "\n",
    "print(\"OR, we can use variables from our script:\")\n",
    "amount_of_cheese = 10\n",
    "amount_of_crackers = 50\n",
    "\n",
    "cheese_and_crackers(amount_of_cheese, amount_of_crackers)\n",
    "\n",
    "print(\"We can even do math inside too:\")\n",
    "cheese_and_crackers(10 + 2, 5 + 6)\n",
    "\n",
    "print(\"And we can combine the tow, variables and math:\")\n",
    "cheese_and_crackers(amount_of_cheese + 100, amount_of_crackers + 1000)"
   ]
  },
  {
   "cell_type": "code",
   "execution_count": 31,
   "metadata": {},
   "outputs": [
    {
     "name": "stdout",
     "output_type": "stream",
     "text": [
      "ADDING 2 + 3\n"
     ]
    },
    {
     "data": {
      "text/plain": [
       "5"
      ]
     },
     "execution_count": 31,
     "metadata": {},
     "output_type": "execute_result"
    }
   ],
   "source": [
    "def add(a,b):\n",
    "    print(\"ADDING %d + %d\" %(a,b))\n",
    "    return a + b\n",
    "\n",
    "def subtract(a,b):\n",
    "    print(\"SUBTRACTING %d + %d\" %(a,b))\n",
    "    return a - b\n",
    "\n",
    "def multiply(a,b):\n",
    "    print(\"MULTIPLYING %d + %d\" %(a,b))\n",
    "    return a * b\n",
    "\n",
    "def divide(a,b):\n",
    "    print(\"DIVIDING %d + %d\" %(a,b))\n",
    "    return a / b\n",
    "\n",
    "print(\"\")"
   ]
  },
  {
   "cell_type": "markdown",
   "metadata": {
    "collapsed": true
   },
   "source": [
    "## More Practice"
   ]
  },
  {
   "cell_type": "code",
   "execution_count": 16,
   "metadata": {},
   "outputs": [
    {
     "name": "stdout",
     "output_type": "stream",
     "text": [
      "Let's practice everything.\n",
      "You'd need to know 'bout escapes with \\ that do \n",
      " newlines and \t tabs.\n",
      "-----------\n",
      "\n",
      "\t The lovely world\n",
      "with logic so firmly planted\n",
      "cannot discern \n",
      " the needs of love\n",
      "nor comprehend passion from intution\n",
      "and requires an explanation\n",
      "\n",
      "\t\twhere there is none.\n",
      "-----------\n",
      "This should be five: 5\n",
      "With a starting point of: 10000\n",
      "We'd have 5000000 beans, 5000 jars, and 50 crates.\n",
      "We can also do that this way:\n",
      "We'd have 500000 beans, 500 jars, and 5 crates.\n"
     ]
    }
   ],
   "source": [
    "print(\"Let's practice everything.\")\n",
    "print(\"You\\'d need to know \\'bout escapes with \\\\ that do \\n newlines and \\t tabs.\")\n",
    "\n",
    "poem = \"\"\"\n",
    "\\t The lovely world\n",
    "with logic so firmly planted\n",
    "cannot discern \\n the needs of love\n",
    "nor comprehend passion from intution\n",
    "and requires an explanation\n",
    "\\n\\t\\twhere there is none.\"\"\"\n",
    "\n",
    "print(\"-----------\")\n",
    "print(poem)\n",
    "print(\"-----------\")\n",
    "\n",
    "five = 10 - 2 + 3 - 6\n",
    "print(\"This should be five: %s\" %(five))\n",
    "\n",
    "def secret_formula(started):\n",
    "    jelly_beans = started * 500\n",
    "    jars = jelly_beans / 1000\n",
    "    crates = jars / 100\n",
    "    return jelly_beans, jars, crates\n",
    "\n",
    "start_point = 10000\n",
    "beans, jars, crates = secret_formula(start_point)\n",
    "\n",
    "print(\"With a starting point of: %d\" %(start_point))\n",
    "print(\"We'd have %d beans, %d jars, and %d crates.\" %(beans, jars, crates))\n",
    "\n",
    "start_point = start_point / 10\n",
    "\n",
    "print(\"We can also do that this way:\")\n",
    "print(\"We'd have %d beans, %d jars, and %d crates.\" %(secret_formula(start_point)))"
   ]
  },
  {
   "cell_type": "code",
   "execution_count": 18,
   "metadata": {
    "collapsed": true
   },
   "outputs": [],
   "source": [
    "def break_words(stuff):\n",
    "    words = stuff.split(\" \")\n",
    "    return words\n",
    "\n",
    "def sort_words(words):\n",
    "    return sorted(words)\n",
    "\n",
    "def print_first_word(words):\n",
    "    word = word.pop(0)\n",
    "    print(word)\n",
    "    \n",
    "def print_last_word(words):\n",
    "    word = words.pop(-1)\n",
    "    print(word)\n",
    "    \n",
    "def sort_sentence(sentence):\n",
    "    words = break_words(sentence)\n",
    "    return sort_words(words)\n",
    "\n",
    "def print_first_and_last(sentence):\n",
    "    words = break_words(sentence)\n",
    "    print_first_word(words)\n",
    "    print_last_word(words)\n",
    "    \n",
    "def print_first_and_last_sorted(sentence):\n",
    "    words = sort_sentence(sentence)\n",
    "    print_first_word(words)\n",
    "    print_last_word(words)\n",
    "    \n"
   ]
  },
  {
   "cell_type": "markdown",
   "metadata": {},
   "source": [
    "## Quiz"
   ]
  },
  {
   "cell_type": "code",
   "execution_count": 64,
   "metadata": {
    "collapsed": true
   },
   "outputs": [],
   "source": [
    "def break_words(stuff):\n",
    "    \"\"\"This function will break up words for us.\"\"\"\n",
    "    words = stuff.split(' ')\n",
    "    return words\n",
    "\n",
    "def sort_words(words):\n",
    "    \"\"\"Sorts the words.\"\"\"\n",
    "    return sorted(words)\n",
    "\n",
    "def print_first_word(words): # This does not work\n",
    "    \"\"\"Prints the first word after popping it off.\"\"\"\n",
    "    word = words.pop(0)\n",
    "    print(words)\n",
    "    \n",
    "def print_last_word(words): # This does not work\n",
    "    \"\"\"Prints the last word after popping it off.\"\"\"\n",
    "    word = words.pop[0]\n",
    "    print (word)\n",
    "    \n",
    "def sort_sentence(sentence):\n",
    "    \"\"\"Takes in a full sentence and returns the sorted words.\"\"\"\n",
    "    words = break_words(sentence)\n",
    "    return sorted(words)\n",
    "\n",
    "def print_first_and_last(sentence):\n",
    "    \"\"\"Prints the first and last words of the sentence.\"\"\"\n",
    "    words = break_words(sentence)\n",
    "    print_first_word(words)\n",
    "    print_last_word(words)\n"
   ]
  },
  {
   "cell_type": "code",
   "execution_count": 66,
   "metadata": {},
   "outputs": [
    {
     "name": "stdout",
     "output_type": "stream",
     "text": [
      "['Hi,', 'how', 'are', 'you?']\n",
      "[' ', ' ', ' ', ',', '?', 'H', 'a', 'e', 'h', 'i', 'o', 'o', 'r', 'u', 'w', 'y']\n",
      "['Hi,', 'are', 'how', 'you']\n"
     ]
    }
   ],
   "source": [
    "print(break_words(\"Hi, how are you?\"))\n",
    "print(sort_words(\"Hi, how are you?\"))\n",
    "#print(print_first_word(\"Hi, how are you?\"))\n",
    "#print(print_last_word(\"Hi, how are you\"))\n",
    "print(sort_sentence(\"Hi, how are you\"))\n",
    "#print(print_first_and_last(\"Hey, what is up\"))"
   ]
  },
  {
   "cell_type": "markdown",
   "metadata": {},
   "source": [
    "## Memorizing Logic"
   ]
  },
  {
   "cell_type": "code",
   "execution_count": 67,
   "metadata": {},
   "outputs": [
    {
     "name": "stdout",
     "output_type": "stream",
     "text": [
      "Too many cats! The world is doomed\n",
      "The world is dry\n",
      "People are greater than or equal to dogs.\n",
      "People are less than or equal to dogs.\n",
      "People are dogs\n"
     ]
    }
   ],
   "source": [
    "people = 20\n",
    "cats = 30\n",
    "dogs = 15\n",
    "\n",
    "if people < cats:\n",
    "    print(\"Too many cats! The world is doomed\")\n",
    "    \n",
    "if people > cats:\n",
    "    print(\"Not many cats! The world is saved\")\n",
    "    \n",
    "if people < dogs:\n",
    "    print(\"The world is drooled on!\")\n",
    "    \n",
    "if people > dogs:\n",
    "    print(\"The world is dry\")\n",
    "    \n",
    "dogs += 5\n",
    "\n",
    "if people >= dogs:\n",
    "    print(\"People are greater than or equal to dogs.\")\n",
    "\n",
    "if people <= dogs:\n",
    "    print(\"People are less than or equal to dogs.\")\n",
    "\n",
    "if people == dogs:\n",
    "    print(\"People are dogs\")"
   ]
  },
  {
   "cell_type": "code",
   "execution_count": 71,
   "metadata": {},
   "outputs": [
    {
     "name": "stdout",
     "output_type": "stream",
     "text": [
      "We should take the cars.\n",
      "Maybe we could take the buses\n",
      "Alright, let's just the the buses\n"
     ]
    }
   ],
   "source": [
    "people = 30\n",
    "cars = 40\n",
    "buses = 15\n",
    "\n",
    "if cars > people:\n",
    "    print(\"We should take the cars.\")\n",
    "elif cars < people:\n",
    "    print(\"We should not take the cars\")\n",
    "else:\n",
    "    print(\"We can't decide\")\n",
    "    \n",
    "if buses > cars:\n",
    "    print(\"That's too many buses.\")\n",
    "elif buses < cars:\n",
    "    print(\"Maybe we could take the buses\")\n",
    "else:\n",
    "    print(\"We still can't decide\")\n",
    "    \n",
    "if people > buses:\n",
    "    print(\"Alright, let's just the the buses\")\n",
    "else:\n",
    "    print(\"fine, let's stay home then\")"
   ]
  },
  {
   "cell_type": "code",
   "execution_count": 77,
   "metadata": {},
   "outputs": [
    {
     "name": "stdout",
     "output_type": "stream",
     "text": [
      "You enter a dark room with two doors. Do you go through door #1 or door #2?\n",
      "> 0\n",
      "You stumle around and fall on a knife and die. Good job!\n"
     ]
    }
   ],
   "source": [
    "print(\"You enter a dark room with two doors. Do you go through door #1 or door #2?\")\n",
    "\n",
    "door = input(\"> \")\n",
    "\n",
    "if door == \"1\":\n",
    "    print(\"There's a giant bear here eating cheese cake. What do you do?\")\n",
    "    print(\"1. Take the cake\")\n",
    "    print(\"2. Scream at the bear\")\n",
    "    \n",
    "    bear = input(\"> \")\n",
    "    \n",
    "    if bear == \"1\":\n",
    "        print(\"the bear eats your face off. Good job!\")\n",
    "    elif bear == \"2\":\n",
    "        print(\"The bear eats your legs off. Good job!\")\n",
    "    else:\n",
    "        print(\"Well, doing %s is probably better. Bear runs away.\" %(bear))\n",
    "        \n",
    "elif door == \"2\":\n",
    "    print(\"You stare into the endless abyss at Cthulu's retina.\")\n",
    "    print(\"1. Blueberries\")\n",
    "    print(\"2. Yellow jacket clothespins\")\n",
    "    print(\"3. Understanding revolvers yelling melodies\")\n",
    "    \n",
    "    insanity = input(\"> \")\n",
    "    \n",
    "    if insanity == \"1\" or insanity == \"2\":\n",
    "        print(\"Your body survives powered by a mind of jello. Good job!\")\n",
    "    else:\n",
    "        print(\"The insanity rots your eyes into a pool of muck. Good job!\")\n",
    "        \n",
    "else:\n",
    "    print(\"You stumle around and fall on a knife and die. Good job!\")\n"
   ]
  },
  {
   "cell_type": "markdown",
   "metadata": {},
   "source": [
    "## Loops and Lists"
   ]
  },
  {
   "cell_type": "code",
   "execution_count": 80,
   "metadata": {},
   "outputs": [
    {
     "name": "stdout",
     "output_type": "stream",
     "text": [
      "This is count 1\n",
      "This is count 2\n",
      "This is count 3\n",
      "This is count 4\n",
      "This is count 5\n",
      "A fruit of type: apples\n",
      "A fruit of type: oranges\n",
      "A fruit of type: pears\n",
      "A fruit of type: apricots\n",
      "I got 1\n",
      "I got 'pennies'\n",
      "I got 2\n",
      "I got 'dimes'\n",
      "I got 3\n",
      "I got 'quarters'\n",
      "Adding 0 to the list.\n",
      "Adding 1 to the list.\n",
      "Adding 2 to the list.\n",
      "Adding 3 to the list.\n",
      "Adding 4 to the list.\n",
      "Adding 5 to the list.\n",
      "Element was: 0\n",
      "Element was: 1\n",
      "Element was: 2\n",
      "Element was: 3\n",
      "Element was: 4\n",
      "Element was: 5\n"
     ]
    }
   ],
   "source": [
    "the_count = [1,2,3,4,5]\n",
    "fruits = [\"apples\", \"oranges\", \"pears\", \"apricots\"]\n",
    "change = [1, \"pennies\", 2, \"dimes\", 3, \"quarters\"]\n",
    "\n",
    "# This first kind of for-loop goes through a list\n",
    "\n",
    "for number in the_count:\n",
    "    print(\"This is count %d\" %(number))\n",
    "\n",
    "# Same as above\n",
    "for fruit in fruits:\n",
    "    print(\"A fruit of type: %s\" %(fruit))\n",
    "\n",
    "# Also we can go through mixed lists too\n",
    "# Notice we have to use %r since we don't know what's in it\n",
    "for i in change:\n",
    "    print(\"I got %r\" %(i))\n",
    "    \n",
    "# We can also build list, first start with an empty one\n",
    "elements = []\n",
    "\n",
    "# Then use the range function to do 0 to 5 counts\n",
    "for i in range(0, 6):\n",
    "    print(\"Adding %d to the list.\" %(i))\n",
    "    #append is a function that lists understand\n",
    "    elements.append(i)\n",
    "\n",
    "for i in elements:\n",
    "    print(\"Element was: %d\" %(i))"
   ]
  },
  {
   "cell_type": "markdown",
   "metadata": {},
   "source": [
    "## While Loop"
   ]
  },
  {
   "cell_type": "code",
   "execution_count": 81,
   "metadata": {},
   "outputs": [
    {
     "name": "stdout",
     "output_type": "stream",
     "text": [
      "At the top i is 0\n",
      "Numbers now:  [0]\n",
      "At the bottom i is 1\n",
      "At the top i is 1\n",
      "Numbers now:  [0, 1]\n",
      "At the bottom i is 2\n",
      "At the top i is 2\n",
      "Numbers now:  [0, 1, 2]\n",
      "At the bottom i is 3\n",
      "At the top i is 3\n",
      "Numbers now:  [0, 1, 2, 3]\n",
      "At the bottom i is 4\n",
      "At the top i is 4\n",
      "Numbers now:  [0, 1, 2, 3, 4]\n",
      "At the bottom i is 5\n",
      "At the top i is 5\n",
      "Numbers now:  [0, 1, 2, 3, 4, 5]\n",
      "At the bottom i is 6\n",
      "The numbers: \n",
      "0\n",
      "1\n",
      "2\n",
      "3\n",
      "4\n",
      "5\n"
     ]
    }
   ],
   "source": [
    "i = 0\n",
    "numbers = []\n",
    "\n",
    "while i < 6:\n",
    "    print(\"At the top i is %d\" %(i))\n",
    "    numbers.append(i)\n",
    "    \n",
    "    i = i + 1\n",
    "    print(\"Numbers now: \", numbers)\n",
    "    print(\"At the bottom i is %d\" %(i))\n",
    "    \n",
    "print(\"The numbers: \")\n",
    "\n",
    "for num in numbers:\n",
    "    print(num)"
   ]
  },
  {
   "cell_type": "markdown",
   "metadata": {},
   "source": [
    "## Accessing Elements of Lists"
   ]
  },
  {
   "cell_type": "code",
   "execution_count": 84,
   "metadata": {},
   "outputs": [
    {
     "name": "stdout",
     "output_type": "stream",
     "text": [
      "python\n",
      "peacock\n",
      "kangaroo\n",
      "whale\n"
     ]
    }
   ],
   "source": [
    "animal = [\"bear\", \"python\", \"peacock\", \"kangaroo\", \"whale\", \"platypus\"]\n",
    "print(animal[1])\n",
    "print(animal[2])\n",
    "print(animal[3])\n",
    "print(animal[4])"
   ]
  },
  {
   "cell_type": "code",
   "execution_count": 1,
   "metadata": {},
   "outputs": [
    {
     "name": "stdout",
     "output_type": "stream",
     "text": [
      "Wait there's not 10 things in that list, let's fix that\n",
      "Adding:  Boy\n",
      "There's 7 items now.\n",
      "Adding:  Girl\n",
      "There's 8 items now.\n",
      "Adding:  Banana\n",
      "There's 9 items now.\n",
      "Adding:  Corn\n",
      "There's 10 items now.\n",
      "There we go:  ['Apples', 'Oranges', 'Crows', 'Telephone', 'Light', 'Sugar', 'Boy', 'Girl', 'Banana', 'Corn']\n",
      "Let's do some things with stuff.\n",
      "Oranges\n",
      "Corn\n",
      "Corn\n",
      "Apples Oranges Crows Telephone Light Sugar Boy Girl Banana\n",
      "Telephone#Light\n"
     ]
    }
   ],
   "source": [
    "ten_things = \"Apples Oranges Crows Telephone Light Sugar\"\n",
    "\n",
    "print(\"Wait there's not 10 things in that list, let's fix that\")\n",
    "\n",
    "stuff = ten_things.split(' ')\n",
    "more_stuff = [\"Day\", \"Night\", \"Song\", \"Frisbee\", \"Corn\", \"Banana\", \"Girl\", \"Boy\"]\n",
    "\n",
    "while len(stuff) != 10:\n",
    "    next_one = more_stuff.pop()\n",
    "    print(\"Adding: \", next_one)\n",
    "    stuff.append(next_one)\n",
    "    print(\"There's %d items now.\" %(len(stuff)))\n",
    "    \n",
    "print(\"There we go: \", stuff)\n",
    "\n",
    "print(\"Let's do some things with stuff.\")\n",
    "\n",
    "print(stuff[1])\n",
    "print(stuff[-1])\n",
    "print(stuff.pop())\n",
    "print(\" \".join(stuff))\n",
    "print(\"#\".join(stuff[3:5]))"
   ]
  },
  {
   "cell_type": "markdown",
   "metadata": {
    "collapsed": true
   },
   "source": [
    "## Dictionaries"
   ]
  },
  {
   "cell_type": "code",
   "execution_count": 10,
   "metadata": {},
   "outputs": [
    {
     "name": "stdout",
     "output_type": "stream",
     "text": [
      "----------\n",
      "NY state has:  New York\n",
      "OR state has:  Portland\n",
      "----------\n",
      "Michigan's abbreviation is:  MI\n",
      "Florida's abbreviation is:  FL\n",
      "----------\n",
      "Michigan has:  Detroit\n",
      "Florida has:  Jacksonville\n",
      "----------\n",
      "Oregon is abbreviated OR\n",
      "Florida is abbreviated FL\n",
      "California is abbreviated CA\n",
      "New York is abbreviated NY\n",
      "Michigan is abbreviated MI\n",
      "----------\n",
      "Sorry, no Texas\n",
      "The city for the state 'TX' is: Does Not Exist\n"
     ]
    }
   ],
   "source": [
    "# create a mapping of a state to abbreviation\n",
    "states = {\n",
    "    'Oregon': \"OR\",\n",
    "    \"Florida\": \"FL\",\n",
    "    \"California\": \"CA\",\n",
    "    \"New York\": \"NY\",\n",
    "    \"Michigan\": \"MI\"\n",
    "}\n",
    "\n",
    "# create a basic set of states and some cities in them\n",
    "cities = {\n",
    "    \"CA\": \"San Francisco\",\n",
    "    \"MI\": \"Detroit\",\n",
    "    \"FL\": \"Jacksonville\"\n",
    "}\n",
    "\n",
    "# add some more cities\n",
    "cities[\"NY\"] = 'New York'\n",
    "cities[\"OR\"] = 'Portland'\n",
    "\n",
    "# print out some cities\n",
    "print(\"-\" * 10)\n",
    "print(\"NY state has: \", cities[\"NY\"])\n",
    "print(\"OR state has: \", cities[\"OR\"])\n",
    "\n",
    "# print out some states\n",
    "print(\"-\" * 10)\n",
    "print(\"Michigan's abbreviation is: \", states[\"Michigan\"])\n",
    "print(\"Florida's abbreviation is: \", states[\"Florida\"])\n",
    "\n",
    "#do it by using the state then cities dict\n",
    "print(\"-\" * 10)\n",
    "print(\"Michigan has: \", cities[states[\"Michigan\"]])\n",
    "print(\"Florida has: \", cities[states[\"Florida\"]])\n",
    "\n",
    "# print every state abbreviation\n",
    "print(\"-\" * 10)\n",
    "for state, abbrev in states.items():\n",
    "    print(\"%s is abbreviated %s\" %(state, abbrev))\n",
    "    \n",
    "print(\"-\" * 10)\n",
    "# safely get an abbreviation by state that might not be there\n",
    "state = states.get(\"Texas\", None)\n",
    "\n",
    "if not state:\n",
    "    print(\"Sorry, no Texas\")\n",
    "    \n",
    "city = cities.get(\"TX\", \"Does Not Exist\")\n",
    "print(\"The city for the state 'TX' is: %s\" %(city))"
   ]
  },
  {
   "cell_type": "code",
   "execution_count": null,
   "metadata": {
    "collapsed": true
   },
   "outputs": [],
   "source": []
  }
 ],
 "metadata": {
  "kernelspec": {
   "display_name": "Python 3",
   "language": "python",
   "name": "python3"
  },
  "language_info": {
   "codemirror_mode": {
    "name": "ipython",
    "version": 3
   },
   "file_extension": ".py",
   "mimetype": "text/x-python",
   "name": "python",
   "nbconvert_exporter": "python",
   "pygments_lexer": "ipython3",
   "version": "3.6.3"
  }
 },
 "nbformat": 4,
 "nbformat_minor": 2
}
